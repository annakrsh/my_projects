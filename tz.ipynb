{
 "cells": [
  {
   "cell_type": "code",
   "execution_count": 1,
   "id": "7181b4c7",
   "metadata": {},
   "outputs": [],
   "source": [
    "import pandas as pd\n",
    "import warnings\n",
    "warnings.filterwarnings('ignore')"
   ]
  },
  {
   "cell_type": "code",
   "execution_count": 2,
   "id": "d86c4704",
   "metadata": {},
   "outputs": [],
   "source": [
    "df = pd.read_csv(r\"C:\\Users\\annak\\Downloads\\data.xlsx - Лист1.csv\")"
   ]
  },
  {
   "cell_type": "code",
   "execution_count": 3,
   "id": "bb820e15",
   "metadata": {},
   "outputs": [
    {
     "data": {
      "text/html": [
       "<div>\n",
       "<style scoped>\n",
       "    .dataframe tbody tr th:only-of-type {\n",
       "        vertical-align: middle;\n",
       "    }\n",
       "\n",
       "    .dataframe tbody tr th {\n",
       "        vertical-align: top;\n",
       "    }\n",
       "\n",
       "    .dataframe thead th {\n",
       "        text-align: right;\n",
       "    }\n",
       "</style>\n",
       "<table border=\"1\" class=\"dataframe\">\n",
       "  <thead>\n",
       "    <tr style=\"text-align: right;\">\n",
       "      <th></th>\n",
       "      <th>client_id</th>\n",
       "      <th>sum</th>\n",
       "      <th>status</th>\n",
       "      <th>sale</th>\n",
       "      <th>new/current</th>\n",
       "      <th>Unnamed: 5</th>\n",
       "      <th>document</th>\n",
       "      <th>receiving_date</th>\n",
       "    </tr>\n",
       "  </thead>\n",
       "  <tbody>\n",
       "    <tr>\n",
       "      <th>0</th>\n",
       "      <td>NaN</td>\n",
       "      <td>NaN</td>\n",
       "      <td>Май 2021</td>\n",
       "      <td>NaN</td>\n",
       "      <td>NaN</td>\n",
       "      <td>NaN</td>\n",
       "      <td>NaN</td>\n",
       "      <td>NaN</td>\n",
       "    </tr>\n",
       "    <tr>\n",
       "      <th>1</th>\n",
       "      <td>6.0</td>\n",
       "      <td>11 693,70</td>\n",
       "      <td>ВНУТРЕННИЙ</td>\n",
       "      <td>-</td>\n",
       "      <td>-</td>\n",
       "      <td>NaN</td>\n",
       "      <td>-</td>\n",
       "      <td>-</td>\n",
       "    </tr>\n",
       "    <tr>\n",
       "      <th>2</th>\n",
       "      <td>14.0</td>\n",
       "      <td>5 452,70</td>\n",
       "      <td>ОПЛАЧЕНО</td>\n",
       "      <td>Петрова</td>\n",
       "      <td>новая</td>\n",
       "      <td>NaN</td>\n",
       "      <td>оригинал</td>\n",
       "      <td>26.07.21</td>\n",
       "    </tr>\n",
       "    <tr>\n",
       "      <th>3</th>\n",
       "      <td>15.0</td>\n",
       "      <td>13 991,70</td>\n",
       "      <td>ОПЛАЧЕНО</td>\n",
       "      <td>Иванов</td>\n",
       "      <td>текущая</td>\n",
       "      <td>NaN</td>\n",
       "      <td>оригинал</td>\n",
       "      <td>08.06.21</td>\n",
       "    </tr>\n",
       "    <tr>\n",
       "      <th>4</th>\n",
       "      <td>16.0</td>\n",
       "      <td>719,7</td>\n",
       "      <td>ОПЛАЧЕНО</td>\n",
       "      <td>Иванов</td>\n",
       "      <td>текущая</td>\n",
       "      <td>NaN</td>\n",
       "      <td>оригинал</td>\n",
       "      <td>08.06.21</td>\n",
       "    </tr>\n",
       "  </tbody>\n",
       "</table>\n",
       "</div>"
      ],
      "text/plain": [
       "   client_id        sum      status     sale new/current  Unnamed: 5  \\\n",
       "0        NaN        NaN    Май 2021      NaN         NaN         NaN   \n",
       "1        6.0  11 693,70  ВНУТРЕННИЙ        -           -         NaN   \n",
       "2       14.0   5 452,70    ОПЛАЧЕНО  Петрова       новая         NaN   \n",
       "3       15.0  13 991,70    ОПЛАЧЕНО   Иванов     текущая         NaN   \n",
       "4       16.0      719,7    ОПЛАЧЕНО   Иванов     текущая         NaN   \n",
       "\n",
       "   document receiving_date  \n",
       "0       NaN            NaN  \n",
       "1         -              -  \n",
       "2  оригинал       26.07.21  \n",
       "3  оригинал       08.06.21  \n",
       "4  оригинал       08.06.21  "
      ]
     },
     "execution_count": 3,
     "metadata": {},
     "output_type": "execute_result"
    }
   ],
   "source": [
    "df.head()"
   ]
  },
  {
   "cell_type": "markdown",
   "id": "aeb79a13",
   "metadata": {},
   "source": [
    "**Предобработка данных**"
   ]
  },
  {
   "cell_type": "code",
   "execution_count": 4,
   "id": "8d559257",
   "metadata": {},
   "outputs": [],
   "source": [
    "#лишний столбец \n",
    "df.drop(columns=['Unnamed: 5'], axis = 1, inplace = True)"
   ]
  },
  {
   "cell_type": "markdown",
   "id": "cfd8eb3c",
   "metadata": {},
   "source": [
    "Можно заметить довольно много пустых значений NaN. "
   ]
  },
  {
   "cell_type": "code",
   "execution_count": 5,
   "id": "1a73c598",
   "metadata": {},
   "outputs": [
    {
     "data": {
      "text/html": [
       "<div>\n",
       "<style scoped>\n",
       "    .dataframe tbody tr th:only-of-type {\n",
       "        vertical-align: middle;\n",
       "    }\n",
       "\n",
       "    .dataframe tbody tr th {\n",
       "        vertical-align: top;\n",
       "    }\n",
       "\n",
       "    .dataframe thead th {\n",
       "        text-align: right;\n",
       "    }\n",
       "</style>\n",
       "<table border=\"1\" class=\"dataframe\">\n",
       "  <thead>\n",
       "    <tr style=\"text-align: right;\">\n",
       "      <th></th>\n",
       "      <th>client_id</th>\n",
       "      <th>sum</th>\n",
       "      <th>status</th>\n",
       "      <th>sale</th>\n",
       "      <th>new/current</th>\n",
       "      <th>document</th>\n",
       "      <th>receiving_date</th>\n",
       "    </tr>\n",
       "  </thead>\n",
       "  <tbody>\n",
       "    <tr>\n",
       "      <th>1</th>\n",
       "      <td>6.0</td>\n",
       "      <td>11 693,70</td>\n",
       "      <td>ВНУТРЕННИЙ</td>\n",
       "      <td>-</td>\n",
       "      <td>-</td>\n",
       "      <td>-</td>\n",
       "      <td>-</td>\n",
       "    </tr>\n",
       "    <tr>\n",
       "      <th>2</th>\n",
       "      <td>14.0</td>\n",
       "      <td>5 452,70</td>\n",
       "      <td>ОПЛАЧЕНО</td>\n",
       "      <td>Петрова</td>\n",
       "      <td>новая</td>\n",
       "      <td>оригинал</td>\n",
       "      <td>26.07.21</td>\n",
       "    </tr>\n",
       "    <tr>\n",
       "      <th>3</th>\n",
       "      <td>15.0</td>\n",
       "      <td>13 991,70</td>\n",
       "      <td>ОПЛАЧЕНО</td>\n",
       "      <td>Иванов</td>\n",
       "      <td>текущая</td>\n",
       "      <td>оригинал</td>\n",
       "      <td>08.06.21</td>\n",
       "    </tr>\n",
       "    <tr>\n",
       "      <th>4</th>\n",
       "      <td>16.0</td>\n",
       "      <td>719,7</td>\n",
       "      <td>ОПЛАЧЕНО</td>\n",
       "      <td>Иванов</td>\n",
       "      <td>текущая</td>\n",
       "      <td>оригинал</td>\n",
       "      <td>08.06.21</td>\n",
       "    </tr>\n",
       "    <tr>\n",
       "      <th>5</th>\n",
       "      <td>18.0</td>\n",
       "      <td>4 253,70</td>\n",
       "      <td>ОПЛАЧЕНО</td>\n",
       "      <td>Иванов</td>\n",
       "      <td>текущая</td>\n",
       "      <td>оригинал</td>\n",
       "      <td>07.07.21</td>\n",
       "    </tr>\n",
       "    <tr>\n",
       "      <th>...</th>\n",
       "      <td>...</td>\n",
       "      <td>...</td>\n",
       "      <td>...</td>\n",
       "      <td>...</td>\n",
       "      <td>...</td>\n",
       "      <td>...</td>\n",
       "      <td>...</td>\n",
       "    </tr>\n",
       "    <tr>\n",
       "      <th>718</th>\n",
       "      <td>304.0</td>\n",
       "      <td>2 803,70</td>\n",
       "      <td>ОПЛАЧЕНО</td>\n",
       "      <td>Андреев</td>\n",
       "      <td>текущая</td>\n",
       "      <td>оригинал</td>\n",
       "      <td>09.11.21</td>\n",
       "    </tr>\n",
       "    <tr>\n",
       "      <th>724</th>\n",
       "      <td>285.0</td>\n",
       "      <td>3 453,70</td>\n",
       "      <td>ОПЛАЧЕНО</td>\n",
       "      <td>Васильев</td>\n",
       "      <td>текущая</td>\n",
       "      <td>оригинал</td>\n",
       "      <td>15.11.21</td>\n",
       "    </tr>\n",
       "    <tr>\n",
       "      <th>725</th>\n",
       "      <td>285.0</td>\n",
       "      <td>4 328,70</td>\n",
       "      <td>ОПЛАЧЕНО</td>\n",
       "      <td>Васильев</td>\n",
       "      <td>текущая</td>\n",
       "      <td>оригинал</td>\n",
       "      <td>15.11.21</td>\n",
       "    </tr>\n",
       "    <tr>\n",
       "      <th>728</th>\n",
       "      <td>373.0</td>\n",
       "      <td>4 403,70</td>\n",
       "      <td>ОПЛАЧЕНО</td>\n",
       "      <td>Михайлов</td>\n",
       "      <td>новая</td>\n",
       "      <td>оригинал</td>\n",
       "      <td>08.11.21</td>\n",
       "    </tr>\n",
       "    <tr>\n",
       "      <th>729</th>\n",
       "      <td>286.0</td>\n",
       "      <td>3 978,70</td>\n",
       "      <td>ОПЛАЧЕНО</td>\n",
       "      <td>Филимонова</td>\n",
       "      <td>текущая</td>\n",
       "      <td>оригинал</td>\n",
       "      <td>15.11.21</td>\n",
       "    </tr>\n",
       "  </tbody>\n",
       "</table>\n",
       "<p>596 rows × 7 columns</p>\n",
       "</div>"
      ],
      "text/plain": [
       "     client_id        sum      status        sale new/current  document  \\\n",
       "1          6.0  11 693,70  ВНУТРЕННИЙ           -           -         -   \n",
       "2         14.0   5 452,70    ОПЛАЧЕНО     Петрова       новая  оригинал   \n",
       "3         15.0  13 991,70    ОПЛАЧЕНО      Иванов     текущая  оригинал   \n",
       "4         16.0      719,7    ОПЛАЧЕНО      Иванов     текущая  оригинал   \n",
       "5         18.0   4 253,70    ОПЛАЧЕНО      Иванов     текущая  оригинал   \n",
       "..         ...        ...         ...         ...         ...       ...   \n",
       "718      304.0   2 803,70    ОПЛАЧЕНО     Андреев     текущая  оригинал   \n",
       "724      285.0   3 453,70    ОПЛАЧЕНО    Васильев     текущая  оригинал   \n",
       "725      285.0   4 328,70    ОПЛАЧЕНО    Васильев     текущая  оригинал   \n",
       "728      373.0   4 403,70    ОПЛАЧЕНО    Михайлов       новая  оригинал   \n",
       "729      286.0   3 978,70    ОПЛАЧЕНО  Филимонова     текущая  оригинал   \n",
       "\n",
       "    receiving_date  \n",
       "1                -  \n",
       "2         26.07.21  \n",
       "3         08.06.21  \n",
       "4         08.06.21  \n",
       "5         07.07.21  \n",
       "..             ...  \n",
       "718       09.11.21  \n",
       "724       15.11.21  \n",
       "725       15.11.21  \n",
       "728       08.11.21  \n",
       "729       15.11.21  \n",
       "\n",
       "[596 rows x 7 columns]"
      ]
     },
     "execution_count": 5,
     "metadata": {},
     "output_type": "execute_result"
    }
   ],
   "source": [
    "df.dropna()"
   ]
  },
  {
   "cell_type": "code",
   "execution_count": 6,
   "id": "54e3848c",
   "metadata": {},
   "outputs": [],
   "source": [
    "#строка не несет полезной информации, поэтому я ее удаляю\n",
    "df.drop(labels = [0,1] , axis = 0, inplace = True)"
   ]
  },
  {
   "cell_type": "code",
   "execution_count": 7,
   "id": "bf3eb6ca",
   "metadata": {},
   "outputs": [],
   "source": [
    "df.dropna(axis = 0, subset=['receiving_date'], inplace = True)"
   ]
  },
  {
   "cell_type": "markdown",
   "id": "919737ce",
   "metadata": {},
   "source": [
    "Отформатирую столбец с датой"
   ]
  },
  {
   "cell_type": "code",
   "execution_count": 8,
   "id": "9c4fd3a3",
   "metadata": {},
   "outputs": [],
   "source": [
    "df['receiving_date'] = pd.to_datetime(df['receiving_date'])"
   ]
  },
  {
   "cell_type": "markdown",
   "id": "8ed84123",
   "metadata": {},
   "source": [
    "**Ответы на вопросы.**\n",
    "\n",
    "**1) Вычислите общую выручку за июль 2021 по тем сделкам, приход денежных средств которых не просрочен.**"
   ]
  },
  {
   "cell_type": "code",
   "execution_count": 9,
   "id": "e08c2c74",
   "metadata": {},
   "outputs": [],
   "source": [
    "df_1 = df[(df['receiving_date'].dt.month == 7)&(df['receiving_date'].dt.year == 2021)]\n",
    "df1 = df_1[df_1['status'] == 'ОПЛАЧЕНО']  "
   ]
  },
  {
   "cell_type": "code",
   "execution_count": 10,
   "id": "ece159a6",
   "metadata": {},
   "outputs": [],
   "source": [
    "#перевод в столбца с платежами в численную переменную\n",
    "def change_str_to_float(text):\n",
    "    return float(text.replace('\\xa0','').replace(',','.'))"
   ]
  },
  {
   "cell_type": "code",
   "execution_count": 11,
   "id": "78d81902",
   "metadata": {},
   "outputs": [],
   "source": [
    "df_1['sum'] = df_1['sum'].apply(change_str_to_float)"
   ]
  },
  {
   "cell_type": "code",
   "execution_count": 12,
   "id": "8c8257c2",
   "metadata": {},
   "outputs": [],
   "source": [
    "#df_1['sum'].unique()"
   ]
  },
  {
   "cell_type": "markdown",
   "id": "f924a8f4",
   "metadata": {},
   "source": [
    "ОТВЕТ:"
   ]
  },
  {
   "cell_type": "code",
   "execution_count": 13,
   "id": "a147eed6",
   "metadata": {},
   "outputs": [
    {
     "data": {
      "text/plain": [
       "590471.8199999997"
      ]
     },
     "execution_count": 13,
     "metadata": {},
     "output_type": "execute_result"
    }
   ],
   "source": [
    "df_1['sum'].sum()"
   ]
  },
  {
   "cell_type": "markdown",
   "id": "ce31448c",
   "metadata": {},
   "source": [
    "**2)Как изменялась выручка компании за рассматриваемый период? Проиллюстрируйте графиком.**\n"
   ]
  },
  {
   "cell_type": "code",
   "execution_count": 14,
   "id": "d41ec9bc",
   "metadata": {},
   "outputs": [],
   "source": [
    "import matplotlib.pyplot  as plt "
   ]
  },
  {
   "cell_type": "code",
   "execution_count": 15,
   "id": "542bd12d",
   "metadata": {},
   "outputs": [],
   "source": [
    "#сначала отсортирую по возрастанию даты\n",
    "df_1.sort_values(by = 'receiving_date', ascending = True, inplace = True )"
   ]
  },
  {
   "cell_type": "code",
   "execution_count": 30,
   "id": "6f4a1977",
   "metadata": {},
   "outputs": [
    {
     "data": {
      "image/png": "[encoded data removed]",
      "text/plain": [
       "<Figure size 432x288 with 1 Axes>"
      ]
     },
     "metadata": {
      "needs_background": "light"
     },
     "output_type": "display_data"
    }
   ],
   "source": [
    "df_1.plot(x='receiving_date', y='sum', style='k.')\n",
    "\n",
    "plt.xlabel('Дата')\n",
    "plt.ylabel('Выручка')\n",
    "plt.title('Временной ряд выручки')\n",
    "\n",
    "plt.show()"
   ]
  },
  {
   "cell_type": "code",
   "execution_count": 18,
   "id": "756d4796",
   "metadata": {},
   "outputs": [],
   "source": [
    "import seaborn as sns "
   ]
  },
  {
   "cell_type": "code",
   "execution_count": 19,
   "id": "8452ec39",
   "metadata": {},
   "outputs": [
    {
     "data": {
      "image/png": "[encoded data removed]",
      "text/plain": [
       "<Figure size 432x288 with 1 Axes>"
      ]
     },
     "metadata": {
      "needs_background": "light"
     },
     "output_type": "display_data"
    }
   ],
   "source": [
    "#распределение выручки \n",
    "sns_plot = sns.distplot(df_1['sum'])\n",
    "fig = sns_plot.get_figure()"
   ]
  },
  {
   "cell_type": "markdown",
   "id": "2b1cec4d",
   "metadata": {},
   "source": [
    "**3)Кто из менеджеров привлек для компании больше всего денежных средств в сентябре 2021?**\n"
   ]
  },
  {
   "cell_type": "code",
   "execution_count": 32,
   "id": "d4d8fd73",
   "metadata": {},
   "outputs": [],
   "source": [
    "df_2 = df[(df['receiving_date'].dt.month == 9)&(df['receiving_date'].dt.year == 2021)]"
   ]
  },
  {
   "cell_type": "code",
   "execution_count": 33,
   "id": "4b32ad2c",
   "metadata": {},
   "outputs": [
    {
     "data": {
      "text/plain": [
       "array(['Филимонова', 'Петрова', 'Кузнецова', 'Васильев', 'Иванов',\n",
       "       'Смирнов', 'Соколов', 'Селиванов', 'Андреев'], dtype=object)"
      ]
     },
     "execution_count": 33,
     "metadata": {},
     "output_type": "execute_result"
    }
   ],
   "source": [
    "df_2.sale.unique()"
   ]
  },
  {
   "cell_type": "code",
   "execution_count": 42,
   "id": "bfb6804b",
   "metadata": {},
   "outputs": [],
   "source": [
    "#перевод в столбца с платежами в численную переменную\n",
    "def change_str_to_float(text):\n",
    "    return float(text.replace('\\xa0','').replace(',','.'))"
   ]
  },
  {
   "cell_type": "code",
   "execution_count": 43,
   "id": "6f5e7b40",
   "metadata": {},
   "outputs": [],
   "source": [
    "df_2['sum'] = df_2['sum'].apply(change_str_to_float)"
   ]
  },
  {
   "cell_type": "code",
   "execution_count": 44,
   "id": "0bda55b0",
   "metadata": {},
   "outputs": [
    {
     "data": {
      "text/plain": [
       "client_id                float64\n",
       "sum                      float64\n",
       "status                    object\n",
       "sale                      object\n",
       "new/current               object\n",
       "document                  object\n",
       "receiving_date    datetime64[ns]\n",
       "dtype: object"
      ]
     },
     "execution_count": 44,
     "metadata": {},
     "output_type": "execute_result"
    }
   ],
   "source": [
    "df_2.dtypes"
   ]
  },
  {
   "cell_type": "code",
   "execution_count": 45,
   "id": "69dfaa1c",
   "metadata": {},
   "outputs": [
    {
     "data": {
      "text/html": [
       "<div>\n",
       "<style scoped>\n",
       "    .dataframe tbody tr th:only-of-type {\n",
       "        vertical-align: middle;\n",
       "    }\n",
       "\n",
       "    .dataframe tbody tr th {\n",
       "        vertical-align: top;\n",
       "    }\n",
       "\n",
       "    .dataframe thead th {\n",
       "        text-align: right;\n",
       "    }\n",
       "</style>\n",
       "<table border=\"1\" class=\"dataframe\">\n",
       "  <thead>\n",
       "    <tr style=\"text-align: right;\">\n",
       "      <th></th>\n",
       "      <th>client_id</th>\n",
       "      <th>sum</th>\n",
       "    </tr>\n",
       "    <tr>\n",
       "      <th>sale</th>\n",
       "      <th></th>\n",
       "      <th></th>\n",
       "    </tr>\n",
       "  </thead>\n",
       "  <tbody>\n",
       "    <tr>\n",
       "      <th>Андреев</th>\n",
       "      <td>2632.0</td>\n",
       "      <td>105007.30</td>\n",
       "    </tr>\n",
       "    <tr>\n",
       "      <th>Васильев</th>\n",
       "      <td>1529.0</td>\n",
       "      <td>30971.90</td>\n",
       "    </tr>\n",
       "    <tr>\n",
       "      <th>Иванов</th>\n",
       "      <td>1454.0</td>\n",
       "      <td>152705.50</td>\n",
       "    </tr>\n",
       "    <tr>\n",
       "      <th>Кузнецова</th>\n",
       "      <td>755.0</td>\n",
       "      <td>56887.20</td>\n",
       "    </tr>\n",
       "    <tr>\n",
       "      <th>Петрова</th>\n",
       "      <td>3480.0</td>\n",
       "      <td>156486.02</td>\n",
       "    </tr>\n",
       "    <tr>\n",
       "      <th>Селиванов</th>\n",
       "      <td>382.0</td>\n",
       "      <td>15074.40</td>\n",
       "    </tr>\n",
       "    <tr>\n",
       "      <th>Смирнов</th>\n",
       "      <td>3794.0</td>\n",
       "      <td>174869.50</td>\n",
       "    </tr>\n",
       "    <tr>\n",
       "      <th>Соколов</th>\n",
       "      <td>1787.0</td>\n",
       "      <td>44234.60</td>\n",
       "    </tr>\n",
       "    <tr>\n",
       "      <th>Филимонова</th>\n",
       "      <td>789.0</td>\n",
       "      <td>42101.25</td>\n",
       "    </tr>\n",
       "  </tbody>\n",
       "</table>\n",
       "</div>"
      ],
      "text/plain": [
       "            client_id        sum\n",
       "sale                            \n",
       "Андреев        2632.0  105007.30\n",
       "Васильев       1529.0   30971.90\n",
       "Иванов         1454.0  152705.50\n",
       "Кузнецова       755.0   56887.20\n",
       "Петрова        3480.0  156486.02\n",
       "Селиванов       382.0   15074.40\n",
       "Смирнов        3794.0  174869.50\n",
       "Соколов        1787.0   44234.60\n",
       "Филимонова      789.0   42101.25"
      ]
     },
     "execution_count": 45,
     "metadata": {},
     "output_type": "execute_result"
    }
   ],
   "source": [
    "df_2.groupby(['sale']).agg('sum')"
   ]
  },
  {
   "cell_type": "markdown",
   "id": "5bf3f231",
   "metadata": {},
   "source": [
    "ОТВЕТ: Следовательно, больше всего в сентябре 2021 года денежных средств привлек менеджер с фамилией Смирнов. Он привлек в компанию 174869.50"
   ]
  },
  {
   "cell_type": "markdown",
   "id": "552a8611",
   "metadata": {},
   "source": [
    "**4)Какой тип сделок (новая/текущая) был преобладающим в октябре 2021?**"
   ]
  },
  {
   "cell_type": "code",
   "execution_count": 34,
   "id": "496d91e8",
   "metadata": {},
   "outputs": [],
   "source": [
    "df_4 = df[(df['receiving_date'].dt.month == 10)&(df['receiving_date'].dt.year == 2021)]"
   ]
  },
  {
   "cell_type": "code",
   "execution_count": 35,
   "id": "c94e08c7",
   "metadata": {},
   "outputs": [
    {
     "data": {
      "text/plain": [
       "client_id         97\n",
       "sum               97\n",
       "status            97\n",
       "sale              97\n",
       "new/current       97\n",
       "document          96\n",
       "receiving_date    97\n",
       "dtype: int64"
      ]
     },
     "execution_count": 35,
     "metadata": {},
     "output_type": "execute_result"
    }
   ],
   "source": [
    "df_4[df_4['new/current'] == 'текущая'].count()"
   ]
  },
  {
   "cell_type": "code",
   "execution_count": 36,
   "id": "3ae58c4a",
   "metadata": {},
   "outputs": [
    {
     "data": {
      "text/plain": [
       "client_id         15\n",
       "sum               15\n",
       "status            15\n",
       "sale              15\n",
       "new/current       15\n",
       "document          15\n",
       "receiving_date    15\n",
       "dtype: int64"
      ]
     },
     "execution_count": 36,
     "metadata": {},
     "output_type": "execute_result"
    }
   ],
   "source": [
    "df_4[df_4['new/current'] == 'новая'].count()"
   ]
  },
  {
   "cell_type": "markdown",
   "id": "9406e48e",
   "metadata": {},
   "source": [
    "ОТВЕТ: Преобладающим был тип сделок \"текущий\" в октябре 2021 года. Количество таких сделок составило 97."
   ]
  },
  {
   "cell_type": "markdown",
   "id": "454010fd",
   "metadata": {},
   "source": [
    "**5)Сколько оригиналов договора по майским сделкам было получено в июне 2021?**"
   ]
  },
  {
   "cell_type": "code",
   "execution_count": 37,
   "id": "c3398243",
   "metadata": {},
   "outputs": [],
   "source": [
    "df_5 = df[(df['receiving_date'].dt.month == 6)&(df['receiving_date'].dt.year == 2021)]"
   ]
  },
  {
   "cell_type": "code",
   "execution_count": 38,
   "id": "de63a04e",
   "metadata": {},
   "outputs": [
    {
     "data": {
      "text/plain": [
       "client_id         80\n",
       "sum               80\n",
       "status            80\n",
       "sale              80\n",
       "new/current       80\n",
       "document          80\n",
       "receiving_date    80\n",
       "dtype: int64"
      ]
     },
     "execution_count": 38,
     "metadata": {},
     "output_type": "execute_result"
    }
   ],
   "source": [
    "df_5[df_5['document'] == 'оригинал'].count()"
   ]
  },
  {
   "cell_type": "markdown",
   "id": "46074f6e",
   "metadata": {},
   "source": [
    "ОТВЕТ: Было получено 80 оригиналов договоров."
   ]
  }
 ],
 "metadata": {
  "kernelspec": {
   "display_name": "Python 3 (ipykernel)",
   "language": "python",
   "name": "python3"
  },
  "language_info": {
   "codemirror_mode": {
    "name": "ipython",
    "version": 3
   },
   "file_extension": ".py",
   "mimetype": "text/x-python",
   "name": "python",
   "nbconvert_exporter": "python",
   "pygments_lexer": "ipython3",
   "version": "3.9.12"
  }
 },
 "nbformat": 4,
 "nbformat_minor": 5
}
